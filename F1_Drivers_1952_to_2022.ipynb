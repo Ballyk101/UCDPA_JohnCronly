{
 "cells": [
  {
   "cell_type": "markdown",
   "id": "2151865b",
   "metadata": {},
   "source": [
    "# F1 Drivers from 1952 to 2022"
   ]
  },
  {
   "cell_type": "markdown",
   "id": "50f0b243",
   "metadata": {},
   "source": [
    "First we import some packages that will be needed"
   ]
  },
  {
   "cell_type": "code",
   "execution_count": 158,
   "id": "938d72bf",
   "metadata": {},
   "outputs": [],
   "source": [
    "import pandas as pd\n",
    "import numpy as np\n",
    "import matplotlib.pyplot as plt\n",
    "import seaborn as sns"
   ]
  },
  {
   "cell_type": "markdown",
   "id": "3aa1cf06",
   "metadata": {},
   "source": [
    "## Importing Dataset and overview"
   ]
  },
  {
   "cell_type": "markdown",
   "id": "12e05a0e",
   "metadata": {},
   "source": [
    "We use pandas to import dataset which is in the documents folder of the computer but was downloaded from Kaggle"
   ]
  },
  {
   "cell_type": "code",
   "execution_count": 159,
   "id": "a21e0523",
   "metadata": {},
   "outputs": [],
   "source": [
    "df = pd.read_csv(\"F1DriversDataset.csv\")"
   ]
  },
  {
   "cell_type": "markdown",
   "id": "d3edecbf",
   "metadata": {},
   "source": [
    "df.head() will give the first five rows of info and df.tail() the last 5. Putting a number inside the () will show that amount of rows."
   ]
  },
  {
   "cell_type": "code",
   "execution_count": 160,
   "id": "c7d9f333",
   "metadata": {},
   "outputs": [
    {
     "data": {
      "text/html": [
       "<div>\n",
       "<style scoped>\n",
       "    .dataframe tbody tr th:only-of-type {\n",
       "        vertical-align: middle;\n",
       "    }\n",
       "\n",
       "    .dataframe tbody tr th {\n",
       "        vertical-align: top;\n",
       "    }\n",
       "\n",
       "    .dataframe thead th {\n",
       "        text-align: right;\n",
       "    }\n",
       "</style>\n",
       "<table border=\"1\" class=\"dataframe\">\n",
       "  <thead>\n",
       "    <tr style=\"text-align: right;\">\n",
       "      <th></th>\n",
       "      <th>Driver</th>\n",
       "      <th>Nationality</th>\n",
       "      <th>Seasons</th>\n",
       "      <th>Championships</th>\n",
       "      <th>Race_Entries</th>\n",
       "      <th>Race_Starts</th>\n",
       "      <th>Pole_Positions</th>\n",
       "      <th>Race_Wins</th>\n",
       "      <th>Podiums</th>\n",
       "      <th>Fastest_Laps</th>\n",
       "      <th>...</th>\n",
       "      <th>Championship Years</th>\n",
       "      <th>Decade</th>\n",
       "      <th>Pole_Rate</th>\n",
       "      <th>Start_Rate</th>\n",
       "      <th>Win_Rate</th>\n",
       "      <th>Podium_Rate</th>\n",
       "      <th>FastLap_Rate</th>\n",
       "      <th>Points_Per_Entry</th>\n",
       "      <th>Years_Active</th>\n",
       "      <th>Champion</th>\n",
       "    </tr>\n",
       "  </thead>\n",
       "  <tbody>\n",
       "    <tr>\n",
       "      <th>0</th>\n",
       "      <td>Carlo Abate</td>\n",
       "      <td>Italy</td>\n",
       "      <td>[1962, 1963]</td>\n",
       "      <td>0.0</td>\n",
       "      <td>3.0</td>\n",
       "      <td>0.0</td>\n",
       "      <td>0.0</td>\n",
       "      <td>0.0</td>\n",
       "      <td>0.0</td>\n",
       "      <td>0.0</td>\n",
       "      <td>...</td>\n",
       "      <td>NaN</td>\n",
       "      <td>1960</td>\n",
       "      <td>0.0</td>\n",
       "      <td>0.000000</td>\n",
       "      <td>0.0</td>\n",
       "      <td>0.0</td>\n",
       "      <td>0.0</td>\n",
       "      <td>0.000000</td>\n",
       "      <td>2</td>\n",
       "      <td>False</td>\n",
       "    </tr>\n",
       "    <tr>\n",
       "      <th>1</th>\n",
       "      <td>George Abecassis</td>\n",
       "      <td>United Kingdom</td>\n",
       "      <td>[1951, 1952]</td>\n",
       "      <td>0.0</td>\n",
       "      <td>2.0</td>\n",
       "      <td>2.0</td>\n",
       "      <td>0.0</td>\n",
       "      <td>0.0</td>\n",
       "      <td>0.0</td>\n",
       "      <td>0.0</td>\n",
       "      <td>...</td>\n",
       "      <td>NaN</td>\n",
       "      <td>1950</td>\n",
       "      <td>0.0</td>\n",
       "      <td>1.000000</td>\n",
       "      <td>0.0</td>\n",
       "      <td>0.0</td>\n",
       "      <td>0.0</td>\n",
       "      <td>0.000000</td>\n",
       "      <td>2</td>\n",
       "      <td>False</td>\n",
       "    </tr>\n",
       "    <tr>\n",
       "      <th>2</th>\n",
       "      <td>Kenny Acheson</td>\n",
       "      <td>United Kingdom</td>\n",
       "      <td>[1983, 1985]</td>\n",
       "      <td>0.0</td>\n",
       "      <td>10.0</td>\n",
       "      <td>3.0</td>\n",
       "      <td>0.0</td>\n",
       "      <td>0.0</td>\n",
       "      <td>0.0</td>\n",
       "      <td>0.0</td>\n",
       "      <td>...</td>\n",
       "      <td>NaN</td>\n",
       "      <td>1980</td>\n",
       "      <td>0.0</td>\n",
       "      <td>0.300000</td>\n",
       "      <td>0.0</td>\n",
       "      <td>0.0</td>\n",
       "      <td>0.0</td>\n",
       "      <td>0.000000</td>\n",
       "      <td>2</td>\n",
       "      <td>False</td>\n",
       "    </tr>\n",
       "    <tr>\n",
       "      <th>3</th>\n",
       "      <td>Andrea de Adamich</td>\n",
       "      <td>Italy</td>\n",
       "      <td>[1968, 1970, 1971, 1972, 1973]</td>\n",
       "      <td>0.0</td>\n",
       "      <td>36.0</td>\n",
       "      <td>30.0</td>\n",
       "      <td>0.0</td>\n",
       "      <td>0.0</td>\n",
       "      <td>0.0</td>\n",
       "      <td>0.0</td>\n",
       "      <td>...</td>\n",
       "      <td>NaN</td>\n",
       "      <td>1970</td>\n",
       "      <td>0.0</td>\n",
       "      <td>0.833333</td>\n",
       "      <td>0.0</td>\n",
       "      <td>0.0</td>\n",
       "      <td>0.0</td>\n",
       "      <td>0.166667</td>\n",
       "      <td>5</td>\n",
       "      <td>False</td>\n",
       "    </tr>\n",
       "    <tr>\n",
       "      <th>4</th>\n",
       "      <td>Philippe Adams</td>\n",
       "      <td>Belgium</td>\n",
       "      <td>[1994]</td>\n",
       "      <td>0.0</td>\n",
       "      <td>2.0</td>\n",
       "      <td>2.0</td>\n",
       "      <td>0.0</td>\n",
       "      <td>0.0</td>\n",
       "      <td>0.0</td>\n",
       "      <td>0.0</td>\n",
       "      <td>...</td>\n",
       "      <td>NaN</td>\n",
       "      <td>1990</td>\n",
       "      <td>0.0</td>\n",
       "      <td>1.000000</td>\n",
       "      <td>0.0</td>\n",
       "      <td>0.0</td>\n",
       "      <td>0.0</td>\n",
       "      <td>0.000000</td>\n",
       "      <td>1</td>\n",
       "      <td>False</td>\n",
       "    </tr>\n",
       "  </tbody>\n",
       "</table>\n",
       "<p>5 rows × 22 columns</p>\n",
       "</div>"
      ],
      "text/plain": [
       "              Driver     Nationality                         Seasons  \\\n",
       "0        Carlo Abate           Italy                    [1962, 1963]   \n",
       "1   George Abecassis  United Kingdom                    [1951, 1952]   \n",
       "2      Kenny Acheson  United Kingdom                    [1983, 1985]   \n",
       "3  Andrea de Adamich           Italy  [1968, 1970, 1971, 1972, 1973]   \n",
       "4     Philippe Adams         Belgium                          [1994]   \n",
       "\n",
       "   Championships  Race_Entries  Race_Starts  Pole_Positions  Race_Wins  \\\n",
       "0            0.0           3.0          0.0             0.0        0.0   \n",
       "1            0.0           2.0          2.0             0.0        0.0   \n",
       "2            0.0          10.0          3.0             0.0        0.0   \n",
       "3            0.0          36.0         30.0             0.0        0.0   \n",
       "4            0.0           2.0          2.0             0.0        0.0   \n",
       "\n",
       "   Podiums  Fastest_Laps  ...  Championship Years  Decade Pole_Rate  \\\n",
       "0      0.0           0.0  ...                 NaN    1960       0.0   \n",
       "1      0.0           0.0  ...                 NaN    1950       0.0   \n",
       "2      0.0           0.0  ...                 NaN    1980       0.0   \n",
       "3      0.0           0.0  ...                 NaN    1970       0.0   \n",
       "4      0.0           0.0  ...                 NaN    1990       0.0   \n",
       "\n",
       "   Start_Rate  Win_Rate  Podium_Rate  FastLap_Rate  Points_Per_Entry  \\\n",
       "0    0.000000       0.0          0.0           0.0          0.000000   \n",
       "1    1.000000       0.0          0.0           0.0          0.000000   \n",
       "2    0.300000       0.0          0.0           0.0          0.000000   \n",
       "3    0.833333       0.0          0.0           0.0          0.166667   \n",
       "4    1.000000       0.0          0.0           0.0          0.000000   \n",
       "\n",
       "   Years_Active  Champion  \n",
       "0             2     False  \n",
       "1             2     False  \n",
       "2             2     False  \n",
       "3             5     False  \n",
       "4             1     False  \n",
       "\n",
       "[5 rows x 22 columns]"
      ]
     },
     "execution_count": 160,
     "metadata": {},
     "output_type": "execute_result"
    }
   ],
   "source": [
    "df.head()"
   ]
  },
  {
   "cell_type": "code",
   "execution_count": 161,
   "id": "862473f3",
   "metadata": {},
   "outputs": [
    {
     "data": {
      "text/html": [
       "<div>\n",
       "<style scoped>\n",
       "    .dataframe tbody tr th:only-of-type {\n",
       "        vertical-align: middle;\n",
       "    }\n",
       "\n",
       "    .dataframe tbody tr th {\n",
       "        vertical-align: top;\n",
       "    }\n",
       "\n",
       "    .dataframe thead th {\n",
       "        text-align: right;\n",
       "    }\n",
       "</style>\n",
       "<table border=\"1\" class=\"dataframe\">\n",
       "  <thead>\n",
       "    <tr style=\"text-align: right;\">\n",
       "      <th></th>\n",
       "      <th>Driver</th>\n",
       "      <th>Nationality</th>\n",
       "      <th>Seasons</th>\n",
       "      <th>Championships</th>\n",
       "      <th>Race_Entries</th>\n",
       "      <th>Race_Starts</th>\n",
       "      <th>Pole_Positions</th>\n",
       "      <th>Race_Wins</th>\n",
       "      <th>Podiums</th>\n",
       "      <th>Fastest_Laps</th>\n",
       "      <th>...</th>\n",
       "      <th>Championship Years</th>\n",
       "      <th>Decade</th>\n",
       "      <th>Pole_Rate</th>\n",
       "      <th>Start_Rate</th>\n",
       "      <th>Win_Rate</th>\n",
       "      <th>Podium_Rate</th>\n",
       "      <th>FastLap_Rate</th>\n",
       "      <th>Points_Per_Entry</th>\n",
       "      <th>Years_Active</th>\n",
       "      <th>Champion</th>\n",
       "    </tr>\n",
       "  </thead>\n",
       "  <tbody>\n",
       "    <tr>\n",
       "      <th>863</th>\n",
       "      <td>Emilio Zapico</td>\n",
       "      <td>Spain</td>\n",
       "      <td>[1976]</td>\n",
       "      <td>0.0</td>\n",
       "      <td>1.0</td>\n",
       "      <td>0.0</td>\n",
       "      <td>0.0</td>\n",
       "      <td>0.0</td>\n",
       "      <td>0.0</td>\n",
       "      <td>0.0</td>\n",
       "      <td>...</td>\n",
       "      <td>NaN</td>\n",
       "      <td>1980</td>\n",
       "      <td>0.0</td>\n",
       "      <td>0.000000</td>\n",
       "      <td>0.0</td>\n",
       "      <td>0.0</td>\n",
       "      <td>0.000000</td>\n",
       "      <td>0.000000</td>\n",
       "      <td>1</td>\n",
       "      <td>False</td>\n",
       "    </tr>\n",
       "    <tr>\n",
       "      <th>864</th>\n",
       "      <td>Zhou Guanyu</td>\n",
       "      <td>China</td>\n",
       "      <td>[2022]</td>\n",
       "      <td>0.0</td>\n",
       "      <td>23.0</td>\n",
       "      <td>23.0</td>\n",
       "      <td>0.0</td>\n",
       "      <td>0.0</td>\n",
       "      <td>0.0</td>\n",
       "      <td>2.0</td>\n",
       "      <td>...</td>\n",
       "      <td>NaN</td>\n",
       "      <td>2020</td>\n",
       "      <td>0.0</td>\n",
       "      <td>1.000000</td>\n",
       "      <td>0.0</td>\n",
       "      <td>0.0</td>\n",
       "      <td>0.086957</td>\n",
       "      <td>0.260870</td>\n",
       "      <td>1</td>\n",
       "      <td>False</td>\n",
       "    </tr>\n",
       "    <tr>\n",
       "      <th>865</th>\n",
       "      <td>Ricardo Zonta</td>\n",
       "      <td>Brazil</td>\n",
       "      <td>[1999, 2000, 2001, 2004, 2005]</td>\n",
       "      <td>0.0</td>\n",
       "      <td>37.0</td>\n",
       "      <td>36.0</td>\n",
       "      <td>0.0</td>\n",
       "      <td>0.0</td>\n",
       "      <td>0.0</td>\n",
       "      <td>0.0</td>\n",
       "      <td>...</td>\n",
       "      <td>NaN</td>\n",
       "      <td>2000</td>\n",
       "      <td>0.0</td>\n",
       "      <td>0.972973</td>\n",
       "      <td>0.0</td>\n",
       "      <td>0.0</td>\n",
       "      <td>0.000000</td>\n",
       "      <td>0.081081</td>\n",
       "      <td>5</td>\n",
       "      <td>False</td>\n",
       "    </tr>\n",
       "    <tr>\n",
       "      <th>866</th>\n",
       "      <td>Renzo Zorzi</td>\n",
       "      <td>Italy</td>\n",
       "      <td>[1975, 1976, 1977]</td>\n",
       "      <td>0.0</td>\n",
       "      <td>7.0</td>\n",
       "      <td>7.0</td>\n",
       "      <td>0.0</td>\n",
       "      <td>0.0</td>\n",
       "      <td>0.0</td>\n",
       "      <td>0.0</td>\n",
       "      <td>...</td>\n",
       "      <td>NaN</td>\n",
       "      <td>1980</td>\n",
       "      <td>0.0</td>\n",
       "      <td>1.000000</td>\n",
       "      <td>0.0</td>\n",
       "      <td>0.0</td>\n",
       "      <td>0.000000</td>\n",
       "      <td>0.142857</td>\n",
       "      <td>3</td>\n",
       "      <td>False</td>\n",
       "    </tr>\n",
       "    <tr>\n",
       "      <th>867</th>\n",
       "      <td>Ricardo Zunino</td>\n",
       "      <td>Argentina</td>\n",
       "      <td>[1979, 1980, 1981]</td>\n",
       "      <td>0.0</td>\n",
       "      <td>11.0</td>\n",
       "      <td>10.0</td>\n",
       "      <td>0.0</td>\n",
       "      <td>0.0</td>\n",
       "      <td>0.0</td>\n",
       "      <td>0.0</td>\n",
       "      <td>...</td>\n",
       "      <td>NaN</td>\n",
       "      <td>1980</td>\n",
       "      <td>0.0</td>\n",
       "      <td>0.909091</td>\n",
       "      <td>0.0</td>\n",
       "      <td>0.0</td>\n",
       "      <td>0.000000</td>\n",
       "      <td>0.000000</td>\n",
       "      <td>3</td>\n",
       "      <td>False</td>\n",
       "    </tr>\n",
       "  </tbody>\n",
       "</table>\n",
       "<p>5 rows × 22 columns</p>\n",
       "</div>"
      ],
      "text/plain": [
       "             Driver Nationality                         Seasons  \\\n",
       "863   Emilio Zapico       Spain                          [1976]   \n",
       "864     Zhou Guanyu       China                          [2022]   \n",
       "865   Ricardo Zonta      Brazil  [1999, 2000, 2001, 2004, 2005]   \n",
       "866     Renzo Zorzi       Italy              [1975, 1976, 1977]   \n",
       "867  Ricardo Zunino   Argentina              [1979, 1980, 1981]   \n",
       "\n",
       "     Championships  Race_Entries  Race_Starts  Pole_Positions  Race_Wins  \\\n",
       "863            0.0           1.0          0.0             0.0        0.0   \n",
       "864            0.0          23.0         23.0             0.0        0.0   \n",
       "865            0.0          37.0         36.0             0.0        0.0   \n",
       "866            0.0           7.0          7.0             0.0        0.0   \n",
       "867            0.0          11.0         10.0             0.0        0.0   \n",
       "\n",
       "     Podiums  Fastest_Laps  ...  Championship Years  Decade Pole_Rate  \\\n",
       "863      0.0           0.0  ...                 NaN    1980       0.0   \n",
       "864      0.0           2.0  ...                 NaN    2020       0.0   \n",
       "865      0.0           0.0  ...                 NaN    2000       0.0   \n",
       "866      0.0           0.0  ...                 NaN    1980       0.0   \n",
       "867      0.0           0.0  ...                 NaN    1980       0.0   \n",
       "\n",
       "     Start_Rate  Win_Rate  Podium_Rate  FastLap_Rate  Points_Per_Entry  \\\n",
       "863    0.000000       0.0          0.0      0.000000          0.000000   \n",
       "864    1.000000       0.0          0.0      0.086957          0.260870   \n",
       "865    0.972973       0.0          0.0      0.000000          0.081081   \n",
       "866    1.000000       0.0          0.0      0.000000          0.142857   \n",
       "867    0.909091       0.0          0.0      0.000000          0.000000   \n",
       "\n",
       "     Years_Active  Champion  \n",
       "863             1     False  \n",
       "864             1     False  \n",
       "865             5     False  \n",
       "866             3     False  \n",
       "867             3     False  \n",
       "\n",
       "[5 rows x 22 columns]"
      ]
     },
     "execution_count": 161,
     "metadata": {},
     "output_type": "execute_result"
    }
   ],
   "source": [
    "df.tail()"
   ]
  },
  {
   "cell_type": "markdown",
   "id": "4bb4c9f6",
   "metadata": {},
   "source": [
    "df.shape will give the rows and column number and df.info() will give column names and if they are an object, float, int or boolean. Shape and info shows that there is 868 rows and 22 columns"
   ]
  },
  {
   "cell_type": "code",
   "execution_count": 162,
   "id": "c469014c",
   "metadata": {},
   "outputs": [
    {
     "data": {
      "text/plain": [
       "(868, 22)"
      ]
     },
     "execution_count": 162,
     "metadata": {},
     "output_type": "execute_result"
    }
   ],
   "source": [
    "df.shape"
   ]
  },
  {
   "cell_type": "code",
   "execution_count": 163,
   "id": "3d515f2e",
   "metadata": {},
   "outputs": [
    {
     "name": "stdout",
     "output_type": "stream",
     "text": [
      "<class 'pandas.core.frame.DataFrame'>\n",
      "RangeIndex: 868 entries, 0 to 867\n",
      "Data columns (total 22 columns):\n",
      " #   Column              Non-Null Count  Dtype  \n",
      "---  ------              --------------  -----  \n",
      " 0   Driver              868 non-null    object \n",
      " 1   Nationality         868 non-null    object \n",
      " 2   Seasons             868 non-null    object \n",
      " 3   Championships       868 non-null    float64\n",
      " 4   Race_Entries        868 non-null    float64\n",
      " 5   Race_Starts         868 non-null    float64\n",
      " 6   Pole_Positions      868 non-null    float64\n",
      " 7   Race_Wins           868 non-null    float64\n",
      " 8   Podiums             868 non-null    float64\n",
      " 9   Fastest_Laps        868 non-null    float64\n",
      " 10  Points              868 non-null    float64\n",
      " 11  Active              868 non-null    bool   \n",
      " 12  Championship Years  34 non-null     object \n",
      " 13  Decade              868 non-null    int64  \n",
      " 14  Pole_Rate           868 non-null    float64\n",
      " 15  Start_Rate          868 non-null    float64\n",
      " 16  Win_Rate            868 non-null    float64\n",
      " 17  Podium_Rate         868 non-null    float64\n",
      " 18  FastLap_Rate        868 non-null    float64\n",
      " 19  Points_Per_Entry    868 non-null    float64\n",
      " 20  Years_Active        868 non-null    int64  \n",
      " 21  Champion            868 non-null    bool   \n",
      "dtypes: bool(2), float64(14), int64(2), object(4)\n",
      "memory usage: 137.4+ KB\n"
     ]
    }
   ],
   "source": [
    "df.info()"
   ]
  },
  {
   "cell_type": "markdown",
   "id": "497aefcd",
   "metadata": {},
   "source": [
    "df.describe() will give info like mean, min, max etc. on columns made up of numerical values (integers and floats)"
   ]
  },
  {
   "cell_type": "code",
   "execution_count": 164,
   "id": "19fe34aa",
   "metadata": {},
   "outputs": [
    {
     "data": {
      "text/html": [
       "<div>\n",
       "<style scoped>\n",
       "    .dataframe tbody tr th:only-of-type {\n",
       "        vertical-align: middle;\n",
       "    }\n",
       "\n",
       "    .dataframe tbody tr th {\n",
       "        vertical-align: top;\n",
       "    }\n",
       "\n",
       "    .dataframe thead th {\n",
       "        text-align: right;\n",
       "    }\n",
       "</style>\n",
       "<table border=\"1\" class=\"dataframe\">\n",
       "  <thead>\n",
       "    <tr style=\"text-align: right;\">\n",
       "      <th></th>\n",
       "      <th>Championships</th>\n",
       "      <th>Race_Entries</th>\n",
       "      <th>Race_Starts</th>\n",
       "      <th>Pole_Positions</th>\n",
       "      <th>Race_Wins</th>\n",
       "      <th>Podiums</th>\n",
       "      <th>Fastest_Laps</th>\n",
       "      <th>Points</th>\n",
       "      <th>Decade</th>\n",
       "      <th>Pole_Rate</th>\n",
       "      <th>Start_Rate</th>\n",
       "      <th>Win_Rate</th>\n",
       "      <th>Podium_Rate</th>\n",
       "      <th>FastLap_Rate</th>\n",
       "      <th>Points_Per_Entry</th>\n",
       "      <th>Years_Active</th>\n",
       "    </tr>\n",
       "  </thead>\n",
       "  <tbody>\n",
       "    <tr>\n",
       "      <th>count</th>\n",
       "      <td>868.000000</td>\n",
       "      <td>868.000000</td>\n",
       "      <td>868.000000</td>\n",
       "      <td>868.000000</td>\n",
       "      <td>868.000000</td>\n",
       "      <td>868.000000</td>\n",
       "      <td>868.000000</td>\n",
       "      <td>868.000000</td>\n",
       "      <td>868.000000</td>\n",
       "      <td>868.000000</td>\n",
       "      <td>868.000000</td>\n",
       "      <td>868.000000</td>\n",
       "      <td>868.000000</td>\n",
       "      <td>868.000000</td>\n",
       "      <td>868.000000</td>\n",
       "      <td>868.000000</td>\n",
       "    </tr>\n",
       "    <tr>\n",
       "      <th>mean</th>\n",
       "      <td>0.084101</td>\n",
       "      <td>29.917051</td>\n",
       "      <td>27.694700</td>\n",
       "      <td>1.244240</td>\n",
       "      <td>1.247696</td>\n",
       "      <td>3.756912</td>\n",
       "      <td>1.261521</td>\n",
       "      <td>55.849459</td>\n",
       "      <td>1972.223502</td>\n",
       "      <td>0.011471</td>\n",
       "      <td>0.779824</td>\n",
       "      <td>0.011050</td>\n",
       "      <td>0.041389</td>\n",
       "      <td>0.011894</td>\n",
       "      <td>0.479158</td>\n",
       "      <td>3.664747</td>\n",
       "    </tr>\n",
       "    <tr>\n",
       "      <th>std</th>\n",
       "      <td>0.524883</td>\n",
       "      <td>53.780150</td>\n",
       "      <td>52.876476</td>\n",
       "      <td>6.347512</td>\n",
       "      <td>6.491921</td>\n",
       "      <td>14.432826</td>\n",
       "      <td>5.413644</td>\n",
       "      <td>265.968614</td>\n",
       "      <td>20.201084</td>\n",
       "      <td>0.046544</td>\n",
       "      <td>0.324303</td>\n",
       "      <td>0.043579</td>\n",
       "      <td>0.106457</td>\n",
       "      <td>0.043514</td>\n",
       "      <td>1.213826</td>\n",
       "      <td>3.501761</td>\n",
       "    </tr>\n",
       "    <tr>\n",
       "      <th>min</th>\n",
       "      <td>0.000000</td>\n",
       "      <td>1.000000</td>\n",
       "      <td>0.000000</td>\n",
       "      <td>0.000000</td>\n",
       "      <td>0.000000</td>\n",
       "      <td>0.000000</td>\n",
       "      <td>0.000000</td>\n",
       "      <td>0.000000</td>\n",
       "      <td>1950.000000</td>\n",
       "      <td>0.000000</td>\n",
       "      <td>0.000000</td>\n",
       "      <td>0.000000</td>\n",
       "      <td>0.000000</td>\n",
       "      <td>0.000000</td>\n",
       "      <td>0.000000</td>\n",
       "      <td>1.000000</td>\n",
       "    </tr>\n",
       "    <tr>\n",
       "      <th>25%</th>\n",
       "      <td>0.000000</td>\n",
       "      <td>2.000000</td>\n",
       "      <td>1.000000</td>\n",
       "      <td>0.000000</td>\n",
       "      <td>0.000000</td>\n",
       "      <td>0.000000</td>\n",
       "      <td>0.000000</td>\n",
       "      <td>0.000000</td>\n",
       "      <td>1960.000000</td>\n",
       "      <td>0.000000</td>\n",
       "      <td>0.666667</td>\n",
       "      <td>0.000000</td>\n",
       "      <td>0.000000</td>\n",
       "      <td>0.000000</td>\n",
       "      <td>0.000000</td>\n",
       "      <td>1.000000</td>\n",
       "    </tr>\n",
       "    <tr>\n",
       "      <th>50%</th>\n",
       "      <td>0.000000</td>\n",
       "      <td>7.000000</td>\n",
       "      <td>5.000000</td>\n",
       "      <td>0.000000</td>\n",
       "      <td>0.000000</td>\n",
       "      <td>0.000000</td>\n",
       "      <td>0.000000</td>\n",
       "      <td>0.000000</td>\n",
       "      <td>1970.000000</td>\n",
       "      <td>0.000000</td>\n",
       "      <td>0.962251</td>\n",
       "      <td>0.000000</td>\n",
       "      <td>0.000000</td>\n",
       "      <td>0.000000</td>\n",
       "      <td>0.000000</td>\n",
       "      <td>2.000000</td>\n",
       "    </tr>\n",
       "    <tr>\n",
       "      <th>75%</th>\n",
       "      <td>0.000000</td>\n",
       "      <td>29.250000</td>\n",
       "      <td>26.000000</td>\n",
       "      <td>0.000000</td>\n",
       "      <td>0.000000</td>\n",
       "      <td>0.000000</td>\n",
       "      <td>0.000000</td>\n",
       "      <td>8.000000</td>\n",
       "      <td>1982.500000</td>\n",
       "      <td>0.000000</td>\n",
       "      <td>1.000000</td>\n",
       "      <td>0.000000</td>\n",
       "      <td>0.000000</td>\n",
       "      <td>0.000000</td>\n",
       "      <td>0.382517</td>\n",
       "      <td>5.000000</td>\n",
       "    </tr>\n",
       "    <tr>\n",
       "      <th>max</th>\n",
       "      <td>7.000000</td>\n",
       "      <td>359.000000</td>\n",
       "      <td>356.000000</td>\n",
       "      <td>103.000000</td>\n",
       "      <td>103.000000</td>\n",
       "      <td>191.000000</td>\n",
       "      <td>77.000000</td>\n",
       "      <td>4415.500000</td>\n",
       "      <td>2020.000000</td>\n",
       "      <td>0.557692</td>\n",
       "      <td>1.000000</td>\n",
       "      <td>0.461538</td>\n",
       "      <td>1.000000</td>\n",
       "      <td>0.500000</td>\n",
       "      <td>14.197749</td>\n",
       "      <td>19.000000</td>\n",
       "    </tr>\n",
       "  </tbody>\n",
       "</table>\n",
       "</div>"
      ],
      "text/plain": [
       "       Championships  Race_Entries  Race_Starts  Pole_Positions   Race_Wins  \\\n",
       "count     868.000000    868.000000   868.000000      868.000000  868.000000   \n",
       "mean        0.084101     29.917051    27.694700        1.244240    1.247696   \n",
       "std         0.524883     53.780150    52.876476        6.347512    6.491921   \n",
       "min         0.000000      1.000000     0.000000        0.000000    0.000000   \n",
       "25%         0.000000      2.000000     1.000000        0.000000    0.000000   \n",
       "50%         0.000000      7.000000     5.000000        0.000000    0.000000   \n",
       "75%         0.000000     29.250000    26.000000        0.000000    0.000000   \n",
       "max         7.000000    359.000000   356.000000      103.000000  103.000000   \n",
       "\n",
       "          Podiums  Fastest_Laps       Points       Decade   Pole_Rate  \\\n",
       "count  868.000000    868.000000   868.000000   868.000000  868.000000   \n",
       "mean     3.756912      1.261521    55.849459  1972.223502    0.011471   \n",
       "std     14.432826      5.413644   265.968614    20.201084    0.046544   \n",
       "min      0.000000      0.000000     0.000000  1950.000000    0.000000   \n",
       "25%      0.000000      0.000000     0.000000  1960.000000    0.000000   \n",
       "50%      0.000000      0.000000     0.000000  1970.000000    0.000000   \n",
       "75%      0.000000      0.000000     8.000000  1982.500000    0.000000   \n",
       "max    191.000000     77.000000  4415.500000  2020.000000    0.557692   \n",
       "\n",
       "       Start_Rate    Win_Rate  Podium_Rate  FastLap_Rate  Points_Per_Entry  \\\n",
       "count  868.000000  868.000000   868.000000    868.000000        868.000000   \n",
       "mean     0.779824    0.011050     0.041389      0.011894          0.479158   \n",
       "std      0.324303    0.043579     0.106457      0.043514          1.213826   \n",
       "min      0.000000    0.000000     0.000000      0.000000          0.000000   \n",
       "25%      0.666667    0.000000     0.000000      0.000000          0.000000   \n",
       "50%      0.962251    0.000000     0.000000      0.000000          0.000000   \n",
       "75%      1.000000    0.000000     0.000000      0.000000          0.382517   \n",
       "max      1.000000    0.461538     1.000000      0.500000         14.197749   \n",
       "\n",
       "       Years_Active  \n",
       "count    868.000000  \n",
       "mean       3.664747  \n",
       "std        3.501761  \n",
       "min        1.000000  \n",
       "25%        1.000000  \n",
       "50%        2.000000  \n",
       "75%        5.000000  \n",
       "max       19.000000  "
      ]
     },
     "execution_count": 164,
     "metadata": {},
     "output_type": "execute_result"
    }
   ],
   "source": [
    "df.describe()"
   ]
  },
  {
   "cell_type": "markdown",
   "id": "08ac42ec",
   "metadata": {},
   "source": [
    "df.columns will give a list of the headings of each column"
   ]
  },
  {
   "cell_type": "code",
   "execution_count": 165,
   "id": "f27db789",
   "metadata": {},
   "outputs": [
    {
     "data": {
      "text/plain": [
       "Index(['Driver', 'Nationality', 'Seasons', 'Championships', 'Race_Entries',\n",
       "       'Race_Starts', 'Pole_Positions', 'Race_Wins', 'Podiums', 'Fastest_Laps',\n",
       "       'Points', 'Active', 'Championship Years', 'Decade', 'Pole_Rate',\n",
       "       'Start_Rate', 'Win_Rate', 'Podium_Rate', 'FastLap_Rate',\n",
       "       'Points_Per_Entry', 'Years_Active', 'Champion'],\n",
       "      dtype='object')"
      ]
     },
     "execution_count": 165,
     "metadata": {},
     "output_type": "execute_result"
    }
   ],
   "source": [
    "df.columns"
   ]
  },
  {
   "cell_type": "markdown",
   "id": "0b4811df",
   "metadata": {},
   "source": [
    "We have decided that we dont need two columns and below is two ways of gettig rid of them. The extra code on the second way is important because it deletes them completly and not just hide them in the dataframe."
   ]
  },
  {
   "cell_type": "code",
   "execution_count": 166,
   "id": "f61556e7",
   "metadata": {},
   "outputs": [],
   "source": [
    "del (df[\"FastLap_Rate\"])"
   ]
  },
  {
   "cell_type": "code",
   "execution_count": 167,
   "id": "5ed6f2f6",
   "metadata": {},
   "outputs": [],
   "source": [
    "df.drop(columns=[\"Points_Per_Entry\"], axis = 1, inplace=True)"
   ]
  },
  {
   "cell_type": "code",
   "execution_count": 168,
   "id": "dd2f8f37",
   "metadata": {},
   "outputs": [
    {
     "data": {
      "text/plain": [
       "Index(['Driver', 'Nationality', 'Seasons', 'Championships', 'Race_Entries',\n",
       "       'Race_Starts', 'Pole_Positions', 'Race_Wins', 'Podiums', 'Fastest_Laps',\n",
       "       'Points', 'Active', 'Championship Years', 'Decade', 'Pole_Rate',\n",
       "       'Start_Rate', 'Win_Rate', 'Podium_Rate', 'Years_Active', 'Champion'],\n",
       "      dtype='object')"
      ]
     },
     "execution_count": 168,
     "metadata": {},
     "output_type": "execute_result"
    }
   ],
   "source": [
    "df.columns"
   ]
  },
  {
   "cell_type": "markdown",
   "id": "9ae2bcd8",
   "metadata": {},
   "source": [
    "Running df.shape again will show that we still have 868 rows but two columns less which is correct."
   ]
  },
  {
   "cell_type": "code",
   "execution_count": 169,
   "id": "d288e654",
   "metadata": {},
   "outputs": [
    {
     "data": {
      "text/plain": [
       "(868, 20)"
      ]
     },
     "execution_count": 169,
     "metadata": {},
     "output_type": "execute_result"
    }
   ],
   "source": [
    "df.shape"
   ]
  },
  {
   "cell_type": "markdown",
   "id": "6d45ac09",
   "metadata": {},
   "source": [
    "We will now check for duplicates values using a boolean to give True or False and then another to get a sum of duplicates but there are none."
   ]
  },
  {
   "cell_type": "code",
   "execution_count": 170,
   "id": "427ab95d",
   "metadata": {},
   "outputs": [
    {
     "data": {
      "text/plain": [
       "0      False\n",
       "1      False\n",
       "2      False\n",
       "3      False\n",
       "4      False\n",
       "       ...  \n",
       "863    False\n",
       "864    False\n",
       "865    False\n",
       "866    False\n",
       "867    False\n",
       "Length: 868, dtype: bool"
      ]
     },
     "execution_count": 170,
     "metadata": {},
     "output_type": "execute_result"
    }
   ],
   "source": [
    "df.duplicated()"
   ]
  },
  {
   "cell_type": "code",
   "execution_count": 171,
   "id": "d792eec1",
   "metadata": {},
   "outputs": [
    {
     "data": {
      "text/plain": [
       "0"
      ]
     },
     "execution_count": 171,
     "metadata": {},
     "output_type": "execute_result"
    }
   ],
   "source": [
    "df.duplicated().sum()"
   ]
  },
  {
   "cell_type": "markdown",
   "id": "6eb0a332",
   "metadata": {},
   "source": [
    "df.isnull() will show any null values as True. This will show if any columns have any missing values or Nan(Not a number) in the column. "
   ]
  },
  {
   "cell_type": "code",
   "execution_count": 172,
   "id": "7bf1c279",
   "metadata": {},
   "outputs": [
    {
     "data": {
      "text/html": [
       "<div>\n",
       "<style scoped>\n",
       "    .dataframe tbody tr th:only-of-type {\n",
       "        vertical-align: middle;\n",
       "    }\n",
       "\n",
       "    .dataframe tbody tr th {\n",
       "        vertical-align: top;\n",
       "    }\n",
       "\n",
       "    .dataframe thead th {\n",
       "        text-align: right;\n",
       "    }\n",
       "</style>\n",
       "<table border=\"1\" class=\"dataframe\">\n",
       "  <thead>\n",
       "    <tr style=\"text-align: right;\">\n",
       "      <th></th>\n",
       "      <th>Driver</th>\n",
       "      <th>Nationality</th>\n",
       "      <th>Seasons</th>\n",
       "      <th>Championships</th>\n",
       "      <th>Race_Entries</th>\n",
       "      <th>Race_Starts</th>\n",
       "      <th>Pole_Positions</th>\n",
       "      <th>Race_Wins</th>\n",
       "      <th>Podiums</th>\n",
       "      <th>Fastest_Laps</th>\n",
       "      <th>Points</th>\n",
       "      <th>Active</th>\n",
       "      <th>Championship Years</th>\n",
       "      <th>Decade</th>\n",
       "      <th>Pole_Rate</th>\n",
       "      <th>Start_Rate</th>\n",
       "      <th>Win_Rate</th>\n",
       "      <th>Podium_Rate</th>\n",
       "      <th>Years_Active</th>\n",
       "      <th>Champion</th>\n",
       "    </tr>\n",
       "  </thead>\n",
       "  <tbody>\n",
       "    <tr>\n",
       "      <th>0</th>\n",
       "      <td>False</td>\n",
       "      <td>False</td>\n",
       "      <td>False</td>\n",
       "      <td>False</td>\n",
       "      <td>False</td>\n",
       "      <td>False</td>\n",
       "      <td>False</td>\n",
       "      <td>False</td>\n",
       "      <td>False</td>\n",
       "      <td>False</td>\n",
       "      <td>False</td>\n",
       "      <td>False</td>\n",
       "      <td>True</td>\n",
       "      <td>False</td>\n",
       "      <td>False</td>\n",
       "      <td>False</td>\n",
       "      <td>False</td>\n",
       "      <td>False</td>\n",
       "      <td>False</td>\n",
       "      <td>False</td>\n",
       "    </tr>\n",
       "    <tr>\n",
       "      <th>1</th>\n",
       "      <td>False</td>\n",
       "      <td>False</td>\n",
       "      <td>False</td>\n",
       "      <td>False</td>\n",
       "      <td>False</td>\n",
       "      <td>False</td>\n",
       "      <td>False</td>\n",
       "      <td>False</td>\n",
       "      <td>False</td>\n",
       "      <td>False</td>\n",
       "      <td>False</td>\n",
       "      <td>False</td>\n",
       "      <td>True</td>\n",
       "      <td>False</td>\n",
       "      <td>False</td>\n",
       "      <td>False</td>\n",
       "      <td>False</td>\n",
       "      <td>False</td>\n",
       "      <td>False</td>\n",
       "      <td>False</td>\n",
       "    </tr>\n",
       "    <tr>\n",
       "      <th>2</th>\n",
       "      <td>False</td>\n",
       "      <td>False</td>\n",
       "      <td>False</td>\n",
       "      <td>False</td>\n",
       "      <td>False</td>\n",
       "      <td>False</td>\n",
       "      <td>False</td>\n",
       "      <td>False</td>\n",
       "      <td>False</td>\n",
       "      <td>False</td>\n",
       "      <td>False</td>\n",
       "      <td>False</td>\n",
       "      <td>True</td>\n",
       "      <td>False</td>\n",
       "      <td>False</td>\n",
       "      <td>False</td>\n",
       "      <td>False</td>\n",
       "      <td>False</td>\n",
       "      <td>False</td>\n",
       "      <td>False</td>\n",
       "    </tr>\n",
       "    <tr>\n",
       "      <th>3</th>\n",
       "      <td>False</td>\n",
       "      <td>False</td>\n",
       "      <td>False</td>\n",
       "      <td>False</td>\n",
       "      <td>False</td>\n",
       "      <td>False</td>\n",
       "      <td>False</td>\n",
       "      <td>False</td>\n",
       "      <td>False</td>\n",
       "      <td>False</td>\n",
       "      <td>False</td>\n",
       "      <td>False</td>\n",
       "      <td>True</td>\n",
       "      <td>False</td>\n",
       "      <td>False</td>\n",
       "      <td>False</td>\n",
       "      <td>False</td>\n",
       "      <td>False</td>\n",
       "      <td>False</td>\n",
       "      <td>False</td>\n",
       "    </tr>\n",
       "    <tr>\n",
       "      <th>4</th>\n",
       "      <td>False</td>\n",
       "      <td>False</td>\n",
       "      <td>False</td>\n",
       "      <td>False</td>\n",
       "      <td>False</td>\n",
       "      <td>False</td>\n",
       "      <td>False</td>\n",
       "      <td>False</td>\n",
       "      <td>False</td>\n",
       "      <td>False</td>\n",
       "      <td>False</td>\n",
       "      <td>False</td>\n",
       "      <td>True</td>\n",
       "      <td>False</td>\n",
       "      <td>False</td>\n",
       "      <td>False</td>\n",
       "      <td>False</td>\n",
       "      <td>False</td>\n",
       "      <td>False</td>\n",
       "      <td>False</td>\n",
       "    </tr>\n",
       "    <tr>\n",
       "      <th>...</th>\n",
       "      <td>...</td>\n",
       "      <td>...</td>\n",
       "      <td>...</td>\n",
       "      <td>...</td>\n",
       "      <td>...</td>\n",
       "      <td>...</td>\n",
       "      <td>...</td>\n",
       "      <td>...</td>\n",
       "      <td>...</td>\n",
       "      <td>...</td>\n",
       "      <td>...</td>\n",
       "      <td>...</td>\n",
       "      <td>...</td>\n",
       "      <td>...</td>\n",
       "      <td>...</td>\n",
       "      <td>...</td>\n",
       "      <td>...</td>\n",
       "      <td>...</td>\n",
       "      <td>...</td>\n",
       "      <td>...</td>\n",
       "    </tr>\n",
       "    <tr>\n",
       "      <th>863</th>\n",
       "      <td>False</td>\n",
       "      <td>False</td>\n",
       "      <td>False</td>\n",
       "      <td>False</td>\n",
       "      <td>False</td>\n",
       "      <td>False</td>\n",
       "      <td>False</td>\n",
       "      <td>False</td>\n",
       "      <td>False</td>\n",
       "      <td>False</td>\n",
       "      <td>False</td>\n",
       "      <td>False</td>\n",
       "      <td>True</td>\n",
       "      <td>False</td>\n",
       "      <td>False</td>\n",
       "      <td>False</td>\n",
       "      <td>False</td>\n",
       "      <td>False</td>\n",
       "      <td>False</td>\n",
       "      <td>False</td>\n",
       "    </tr>\n",
       "    <tr>\n",
       "      <th>864</th>\n",
       "      <td>False</td>\n",
       "      <td>False</td>\n",
       "      <td>False</td>\n",
       "      <td>False</td>\n",
       "      <td>False</td>\n",
       "      <td>False</td>\n",
       "      <td>False</td>\n",
       "      <td>False</td>\n",
       "      <td>False</td>\n",
       "      <td>False</td>\n",
       "      <td>False</td>\n",
       "      <td>False</td>\n",
       "      <td>True</td>\n",
       "      <td>False</td>\n",
       "      <td>False</td>\n",
       "      <td>False</td>\n",
       "      <td>False</td>\n",
       "      <td>False</td>\n",
       "      <td>False</td>\n",
       "      <td>False</td>\n",
       "    </tr>\n",
       "    <tr>\n",
       "      <th>865</th>\n",
       "      <td>False</td>\n",
       "      <td>False</td>\n",
       "      <td>False</td>\n",
       "      <td>False</td>\n",
       "      <td>False</td>\n",
       "      <td>False</td>\n",
       "      <td>False</td>\n",
       "      <td>False</td>\n",
       "      <td>False</td>\n",
       "      <td>False</td>\n",
       "      <td>False</td>\n",
       "      <td>False</td>\n",
       "      <td>True</td>\n",
       "      <td>False</td>\n",
       "      <td>False</td>\n",
       "      <td>False</td>\n",
       "      <td>False</td>\n",
       "      <td>False</td>\n",
       "      <td>False</td>\n",
       "      <td>False</td>\n",
       "    </tr>\n",
       "    <tr>\n",
       "      <th>866</th>\n",
       "      <td>False</td>\n",
       "      <td>False</td>\n",
       "      <td>False</td>\n",
       "      <td>False</td>\n",
       "      <td>False</td>\n",
       "      <td>False</td>\n",
       "      <td>False</td>\n",
       "      <td>False</td>\n",
       "      <td>False</td>\n",
       "      <td>False</td>\n",
       "      <td>False</td>\n",
       "      <td>False</td>\n",
       "      <td>True</td>\n",
       "      <td>False</td>\n",
       "      <td>False</td>\n",
       "      <td>False</td>\n",
       "      <td>False</td>\n",
       "      <td>False</td>\n",
       "      <td>False</td>\n",
       "      <td>False</td>\n",
       "    </tr>\n",
       "    <tr>\n",
       "      <th>867</th>\n",
       "      <td>False</td>\n",
       "      <td>False</td>\n",
       "      <td>False</td>\n",
       "      <td>False</td>\n",
       "      <td>False</td>\n",
       "      <td>False</td>\n",
       "      <td>False</td>\n",
       "      <td>False</td>\n",
       "      <td>False</td>\n",
       "      <td>False</td>\n",
       "      <td>False</td>\n",
       "      <td>False</td>\n",
       "      <td>True</td>\n",
       "      <td>False</td>\n",
       "      <td>False</td>\n",
       "      <td>False</td>\n",
       "      <td>False</td>\n",
       "      <td>False</td>\n",
       "      <td>False</td>\n",
       "      <td>False</td>\n",
       "    </tr>\n",
       "  </tbody>\n",
       "</table>\n",
       "<p>868 rows × 20 columns</p>\n",
       "</div>"
      ],
      "text/plain": [
       "     Driver  Nationality  Seasons  Championships  Race_Entries  Race_Starts  \\\n",
       "0     False        False    False          False         False        False   \n",
       "1     False        False    False          False         False        False   \n",
       "2     False        False    False          False         False        False   \n",
       "3     False        False    False          False         False        False   \n",
       "4     False        False    False          False         False        False   \n",
       "..      ...          ...      ...            ...           ...          ...   \n",
       "863   False        False    False          False         False        False   \n",
       "864   False        False    False          False         False        False   \n",
       "865   False        False    False          False         False        False   \n",
       "866   False        False    False          False         False        False   \n",
       "867   False        False    False          False         False        False   \n",
       "\n",
       "     Pole_Positions  Race_Wins  Podiums  Fastest_Laps  Points  Active  \\\n",
       "0             False      False    False         False   False   False   \n",
       "1             False      False    False         False   False   False   \n",
       "2             False      False    False         False   False   False   \n",
       "3             False      False    False         False   False   False   \n",
       "4             False      False    False         False   False   False   \n",
       "..              ...        ...      ...           ...     ...     ...   \n",
       "863           False      False    False         False   False   False   \n",
       "864           False      False    False         False   False   False   \n",
       "865           False      False    False         False   False   False   \n",
       "866           False      False    False         False   False   False   \n",
       "867           False      False    False         False   False   False   \n",
       "\n",
       "     Championship Years  Decade  Pole_Rate  Start_Rate  Win_Rate  Podium_Rate  \\\n",
       "0                  True   False      False       False     False        False   \n",
       "1                  True   False      False       False     False        False   \n",
       "2                  True   False      False       False     False        False   \n",
       "3                  True   False      False       False     False        False   \n",
       "4                  True   False      False       False     False        False   \n",
       "..                  ...     ...        ...         ...       ...          ...   \n",
       "863                True   False      False       False     False        False   \n",
       "864                True   False      False       False     False        False   \n",
       "865                True   False      False       False     False        False   \n",
       "866                True   False      False       False     False        False   \n",
       "867                True   False      False       False     False        False   \n",
       "\n",
       "     Years_Active  Champion  \n",
       "0           False     False  \n",
       "1           False     False  \n",
       "2           False     False  \n",
       "3           False     False  \n",
       "4           False     False  \n",
       "..            ...       ...  \n",
       "863         False     False  \n",
       "864         False     False  \n",
       "865         False     False  \n",
       "866         False     False  \n",
       "867         False     False  \n",
       "\n",
       "[868 rows x 20 columns]"
      ]
     },
     "execution_count": 172,
     "metadata": {},
     "output_type": "execute_result"
    }
   ],
   "source": [
    "df.isnull()"
   ]
  },
  {
   "cell_type": "markdown",
   "id": "216db99d",
   "metadata": {},
   "source": [
    "As a dataset could be big and hard to see True an easier way to see null values is to use the following that shows we have some null values in Championship Years."
   ]
  },
  {
   "cell_type": "code",
   "execution_count": 173,
   "id": "18b89643",
   "metadata": {},
   "outputs": [
    {
     "data": {
      "text/plain": [
       "Driver                  0\n",
       "Nationality             0\n",
       "Seasons                 0\n",
       "Championships           0\n",
       "Race_Entries            0\n",
       "Race_Starts             0\n",
       "Pole_Positions          0\n",
       "Race_Wins               0\n",
       "Podiums                 0\n",
       "Fastest_Laps            0\n",
       "Points                  0\n",
       "Active                  0\n",
       "Championship Years    834\n",
       "Decade                  0\n",
       "Pole_Rate               0\n",
       "Start_Rate              0\n",
       "Win_Rate                0\n",
       "Podium_Rate             0\n",
       "Years_Active            0\n",
       "Champion                0\n",
       "dtype: int64"
      ]
     },
     "execution_count": 173,
     "metadata": {},
     "output_type": "execute_result"
    }
   ],
   "source": [
    "df.isnull().sum()"
   ]
  },
  {
   "cell_type": "markdown",
   "id": "d102b84f",
   "metadata": {},
   "source": [
    "A seaborn heat map could be useful in some cases to show null values.  "
   ]
  },
  {
   "cell_type": "code",
   "execution_count": 174,
   "id": "289d0c69",
   "metadata": {},
   "outputs": [],
   "source": [
    "import seaborn as sns"
   ]
  },
  {
   "cell_type": "code",
   "execution_count": 175,
   "id": "23a27442",
   "metadata": {},
   "outputs": [
    {
     "data": {
      "text/plain": [
       "<AxesSubplot:>"
      ]
     },
     "execution_count": 175,
     "metadata": {},
     "output_type": "execute_result"
    },
    {
     "data": {
      "image/png": "[encoded data removed]",
      "text/plain": [
       "<Figure size 432x288 with 2 Axes>"
      ]
     },
     "metadata": {
      "needs_background": "light"
     },
     "output_type": "display_data"
    }
   ],
   "source": [
    "sns.heatmap(df.isnull(),yticklabels=False)"
   ]
  },
  {
   "cell_type": "markdown",
   "id": "d6395228",
   "metadata": {},
   "source": [
    "The above shows a lot of null values in the Championship years column and deleting all the rows with null values would leave a very small and probably not a useable dataset. Instead we can replace the null values with 0 which will suit our dataframe."
   ]
  },
  {
   "cell_type": "code",
   "execution_count": 176,
   "id": "eb8effbc",
   "metadata": {},
   "outputs": [],
   "source": [
    "df[\"Championship Years\"]=df[\"Championship Years\"].fillna(0)"
   ]
  },
  {
   "cell_type": "code",
   "execution_count": 177,
   "id": "1daf9f01",
   "metadata": {},
   "outputs": [
    {
     "data": {
      "text/plain": [
       "<AxesSubplot:>"
      ]
     },
     "execution_count": 177,
     "metadata": {},
     "output_type": "execute_result"
    },
    {
     "data": {
      "image/png": "[encoded data removed]",
      "text/plain": [
       "<Figure size 432x288 with 2 Axes>"
      ]
     },
     "metadata": {
      "needs_background": "light"
     },
     "output_type": "display_data"
    }
   ],
   "source": [
    "sns.heatmap(df.isnull(),yticklabels=False)"
   ]
  },
  {
   "cell_type": "code",
   "execution_count": 178,
   "id": "9e24024b",
   "metadata": {},
   "outputs": [
    {
     "data": {
      "text/plain": [
       "Driver                0\n",
       "Nationality           0\n",
       "Seasons               0\n",
       "Championships         0\n",
       "Race_Entries          0\n",
       "Race_Starts           0\n",
       "Pole_Positions        0\n",
       "Race_Wins             0\n",
       "Podiums               0\n",
       "Fastest_Laps          0\n",
       "Points                0\n",
       "Active                0\n",
       "Championship Years    0\n",
       "Decade                0\n",
       "Pole_Rate             0\n",
       "Start_Rate            0\n",
       "Win_Rate              0\n",
       "Podium_Rate           0\n",
       "Years_Active          0\n",
       "Champion              0\n",
       "dtype: int64"
      ]
     },
     "execution_count": 178,
     "metadata": {},
     "output_type": "execute_result"
    }
   ],
   "source": [
    "df.isnull().sum()"
   ]
  },
  {
   "cell_type": "markdown",
   "id": "d81d2f96",
   "metadata": {},
   "source": [
    "The two codes run above show there is now no null values."
   ]
  },
  {
   "cell_type": "markdown",
   "id": "fc399071",
   "metadata": {},
   "source": [
    "We want to join (concatenate) the seasons and years active to one column called seasons_number so we use the code below. We can use + here as long as we turn the columns into strings as if they are numerical values then it will try and add them together. "
   ]
  },
  {
   "cell_type": "code",
   "execution_count": 179,
   "id": "3f51b28d",
   "metadata": {},
   "outputs": [
    {
     "name": "stdout",
     "output_type": "stream",
     "text": [
      "0                      [1962, 1963]--2\n",
      "1                      [1951, 1952]--2\n",
      "2                      [1983, 1985]--2\n",
      "3    [1968, 1970, 1971, 1972, 1973]--5\n",
      "4                            [1994]--1\n",
      "Name: seasons_number, dtype: object\n"
     ]
    }
   ],
   "source": [
    "df[\"seasons_number\"]= df[\"Seasons\"].astype(str) + \"--\" + df[\"Years_Active\"].astype(str)\n",
    "print(df[\"seasons_number\"].head())"
   ]
  },
  {
   "cell_type": "code",
   "execution_count": 180,
   "id": "3c87e27c",
   "metadata": {},
   "outputs": [
    {
     "data": {
      "text/plain": [
       "Index(['Driver', 'Nationality', 'Seasons', 'Championships', 'Race_Entries',\n",
       "       'Race_Starts', 'Pole_Positions', 'Race_Wins', 'Podiums', 'Fastest_Laps',\n",
       "       'Points', 'Active', 'Championship Years', 'Decade', 'Pole_Rate',\n",
       "       'Start_Rate', 'Win_Rate', 'Podium_Rate', 'Years_Active', 'Champion',\n",
       "       'seasons_number'],\n",
       "      dtype='object')"
      ]
     },
     "execution_count": 180,
     "metadata": {},
     "output_type": "execute_result"
    }
   ],
   "source": [
    "df.columns"
   ]
  },
  {
   "cell_type": "markdown",
   "id": "059b7f7f",
   "metadata": {},
   "source": [
    "Using the codes below we can see that we have an extra column which is a string. We also want to capitalize seasons_number."
   ]
  },
  {
   "cell_type": "code",
   "execution_count": 181,
   "id": "45c5da1c",
   "metadata": {},
   "outputs": [
    {
     "data": {
      "text/plain": [
       "(868, 21)"
      ]
     },
     "execution_count": 181,
     "metadata": {},
     "output_type": "execute_result"
    }
   ],
   "source": [
    "df.shape"
   ]
  },
  {
   "cell_type": "code",
   "execution_count": 182,
   "id": "f39c5733",
   "metadata": {},
   "outputs": [
    {
     "data": {
      "text/plain": [
       "str"
      ]
     },
     "execution_count": 182,
     "metadata": {},
     "output_type": "execute_result"
    }
   ],
   "source": [
    "type(\"seasons_number\")"
   ]
  },
  {
   "cell_type": "code",
   "execution_count": 183,
   "id": "7d73f43c",
   "metadata": {},
   "outputs": [],
   "source": [
    "df.rename(columns={\"seasons_number\":\"Seasons_number\"}, inplace=True)"
   ]
  },
  {
   "cell_type": "code",
   "execution_count": 184,
   "id": "c35fe22c",
   "metadata": {},
   "outputs": [
    {
     "data": {
      "text/plain": [
       "Index(['Driver', 'Nationality', 'Seasons', 'Championships', 'Race_Entries',\n",
       "       'Race_Starts', 'Pole_Positions', 'Race_Wins', 'Podiums', 'Fastest_Laps',\n",
       "       'Points', 'Active', 'Championship Years', 'Decade', 'Pole_Rate',\n",
       "       'Start_Rate', 'Win_Rate', 'Podium_Rate', 'Years_Active', 'Champion',\n",
       "       'Seasons_number'],\n",
       "      dtype='object')"
      ]
     },
     "execution_count": 184,
     "metadata": {},
     "output_type": "execute_result"
    }
   ],
   "source": [
    "df.columns"
   ]
  },
  {
   "cell_type": "markdown",
   "id": "20fb6ba0",
   "metadata": {},
   "source": [
    "# Merge Datasets"
   ]
  },
  {
   "cell_type": "markdown",
   "id": "6b85e9d1",
   "metadata": {},
   "source": [
    "We will merge together two other datasets also on Formula1 as we may use for analysis later. In the first dataset we will only take 7 of the 18 columns that we need. In the second we will bring all columns in and then drop/delete the ones we dont need. We will do some concatenation on the second one by joining two colums to one and dropping the two not needed anymore. The merge will be done with rs on the left so a left merge as this is the one that has 25840 columns and we need to keep them.  Some checks will also be done on data and capitilize the columns. "
   ]
  },
  {
   "cell_type": "code",
   "execution_count": 185,
   "id": "26b9015c",
   "metadata": {
    "scrolled": true
   },
   "outputs": [
    {
     "name": "stdout",
     "output_type": "stream",
     "text": [
      "   resultId  raceId  driverId positionText  points  laps         time\n",
      "0         1      18         1            1    10.0    58  1:34:50.616\n",
      "1         2      18         2            2     8.0    58       +5.478\n",
      "2         3      18         3            3     6.0    58       +8.163\n",
      "3         4      18         4            4     5.0    58      +17.181\n",
      "4         5      18         5            5     4.0    58      +18.014\n"
     ]
    }
   ],
   "source": [
    "rs = pd.read_csv(\"results.csv\", usecols=[\"resultId\",\"raceId\",\"driverId\",\"positionText\", \"points\",\"laps\",\"time\"])\n",
    "print(rs.head())"
   ]
  },
  {
   "cell_type": "code",
   "execution_count": 186,
   "id": "add28dd3",
   "metadata": {},
   "outputs": [
    {
     "name": "stdout",
     "output_type": "stream",
     "text": [
      "<class 'pandas.core.frame.DataFrame'>\n",
      "RangeIndex: 25840 entries, 0 to 25839\n",
      "Data columns (total 7 columns):\n",
      " #   Column        Non-Null Count  Dtype  \n",
      "---  ------        --------------  -----  \n",
      " 0   resultId      25840 non-null  int64  \n",
      " 1   raceId        25840 non-null  int64  \n",
      " 2   driverId      25840 non-null  int64  \n",
      " 3   positionText  25840 non-null  object \n",
      " 4   points        25840 non-null  float64\n",
      " 5   laps          25840 non-null  int64  \n",
      " 6   time          25840 non-null  object \n",
      "dtypes: float64(1), int64(4), object(2)\n",
      "memory usage: 1.4+ MB\n"
     ]
    }
   ],
   "source": [
    "rs.info()"
   ]
  },
  {
   "cell_type": "code",
   "execution_count": 187,
   "id": "1f6b2dc2",
   "metadata": {},
   "outputs": [
    {
     "data": {
      "text/plain": [
       "0"
      ]
     },
     "execution_count": 187,
     "metadata": {},
     "output_type": "execute_result"
    }
   ],
   "source": [
    "rs.duplicated().sum()"
   ]
  },
  {
   "cell_type": "code",
   "execution_count": 188,
   "id": "92d5cf07",
   "metadata": {},
   "outputs": [
    {
     "data": {
      "text/plain": [
       "resultId        0\n",
       "raceId          0\n",
       "driverId        0\n",
       "positionText    0\n",
       "points          0\n",
       "laps            0\n",
       "time            0\n",
       "dtype: int64"
      ]
     },
     "execution_count": 188,
     "metadata": {},
     "output_type": "execute_result"
    }
   ],
   "source": [
    "rs.isnull().sum()"
   ]
  },
  {
   "cell_type": "code",
   "execution_count": 189,
   "id": "652baf5f",
   "metadata": {},
   "outputs": [
    {
     "name": "stdout",
     "output_type": "stream",
     "text": [
      "   driverId   driverRef number code  forename     surname         dob  \\\n",
      "0         1    hamilton     44  HAM     Lewis    Hamilton  1985-01-07   \n",
      "1         2    heidfeld     \\N  HEI      Nick    Heidfeld  1977-05-10   \n",
      "2         3     rosberg      6  ROS      Nico     Rosberg  1985-06-27   \n",
      "3         4      alonso     14  ALO  Fernando      Alonso  1981-07-29   \n",
      "4         5  kovalainen     \\N  KOV    Heikki  Kovalainen  1981-10-19   \n",
      "\n",
      "  nationality                                             url  \n",
      "0     British     http://en.wikipedia.org/wiki/Lewis_Hamilton  \n",
      "1      German      http://en.wikipedia.org/wiki/Nick_Heidfeld  \n",
      "2      German       http://en.wikipedia.org/wiki/Nico_Rosberg  \n",
      "3     Spanish    http://en.wikipedia.org/wiki/Fernando_Alonso  \n",
      "4     Finnish  http://en.wikipedia.org/wiki/Heikki_Kovalainen  \n"
     ]
    }
   ],
   "source": [
    "dr = pd.read_csv(\"drivers.csv\")\n",
    "print (dr.head())"
   ]
  },
  {
   "cell_type": "code",
   "execution_count": 190,
   "id": "c57491af",
   "metadata": {},
   "outputs": [
    {
     "name": "stdout",
     "output_type": "stream",
     "text": [
      "   driverId  forename     surname         dob\n",
      "0         1     Lewis    Hamilton  1985-01-07\n",
      "1         2      Nick    Heidfeld  1977-05-10\n",
      "2         3      Nico     Rosberg  1985-06-27\n",
      "3         4  Fernando      Alonso  1981-07-29\n",
      "4         5    Heikki  Kovalainen  1981-10-19\n"
     ]
    }
   ],
   "source": [
    "dr.drop(columns=[\"driverRef\",\"number\",\"code\",\"nationality\",\"url\"], axis = 1, inplace=True)\n",
    "print(dr.head())"
   ]
  },
  {
   "cell_type": "code",
   "execution_count": 191,
   "id": "8069a7e9",
   "metadata": {},
   "outputs": [
    {
     "name": "stdout",
     "output_type": "stream",
     "text": [
      "<class 'pandas.core.frame.DataFrame'>\n",
      "RangeIndex: 857 entries, 0 to 856\n",
      "Data columns (total 4 columns):\n",
      " #   Column    Non-Null Count  Dtype \n",
      "---  ------    --------------  ----- \n",
      " 0   driverId  857 non-null    int64 \n",
      " 1   forename  857 non-null    object\n",
      " 2   surname   857 non-null    object\n",
      " 3   dob       857 non-null    object\n",
      "dtypes: int64(1), object(3)\n",
      "memory usage: 26.9+ KB\n"
     ]
    }
   ],
   "source": [
    "dr.info()"
   ]
  },
  {
   "cell_type": "code",
   "execution_count": 192,
   "id": "8dc72747",
   "metadata": {},
   "outputs": [
    {
     "data": {
      "text/plain": [
       "0"
      ]
     },
     "execution_count": 192,
     "metadata": {},
     "output_type": "execute_result"
    }
   ],
   "source": [
    "dr.duplicated().sum()"
   ]
  },
  {
   "cell_type": "code",
   "execution_count": 193,
   "id": "a8d27b14",
   "metadata": {},
   "outputs": [
    {
     "data": {
      "text/plain": [
       "driverId    0\n",
       "forename    0\n",
       "surname     0\n",
       "dob         0\n",
       "dtype: int64"
      ]
     },
     "execution_count": 193,
     "metadata": {},
     "output_type": "execute_result"
    }
   ],
   "source": [
    "dr.isnull().sum()"
   ]
  },
  {
   "cell_type": "code",
   "execution_count": 194,
   "id": "c5c7d1fa",
   "metadata": {},
   "outputs": [
    {
     "name": "stdout",
     "output_type": "stream",
     "text": [
      "0       Lewis Hamilton\n",
      "1        Nick Heidfeld\n",
      "2         Nico Rosberg\n",
      "3      Fernando Alonso\n",
      "4    Heikki Kovalainen\n",
      "Name: name, dtype: object\n"
     ]
    }
   ],
   "source": [
    "dr[\"name\"]= dr[[\"forename\", \"surname\"]].apply(\" \".join, axis=1)\n",
    "print(dr[\"name\"].head())"
   ]
  },
  {
   "cell_type": "code",
   "execution_count": 195,
   "id": "1b39bebb",
   "metadata": {},
   "outputs": [
    {
     "name": "stdout",
     "output_type": "stream",
     "text": [
      "   driverId         dob               name\n",
      "0         1  1985-01-07     Lewis Hamilton\n",
      "1         2  1977-05-10      Nick Heidfeld\n",
      "2         3  1985-06-27       Nico Rosberg\n",
      "3         4  1981-07-29    Fernando Alonso\n",
      "4         5  1981-10-19  Heikki Kovalainen\n"
     ]
    }
   ],
   "source": [
    "dr.drop(columns=[\"forename\",\"surname\"], axis = 1, inplace=True)\n",
    "print(dr.head())"
   ]
  },
  {
   "cell_type": "code",
   "execution_count": 196,
   "id": "b350cba7",
   "metadata": {},
   "outputs": [
    {
     "name": "stdout",
     "output_type": "stream",
     "text": [
      "   resultId  raceId  driverId positionText  points  laps         time  \\\n",
      "0         1      18         1            1    10.0    58  1:34:50.616   \n",
      "1         2      18         2            2     8.0    58       +5.478   \n",
      "2         3      18         3            3     6.0    58       +8.163   \n",
      "3         4      18         4            4     5.0    58      +17.181   \n",
      "4         5      18         5            5     4.0    58      +18.014   \n",
      "\n",
      "          dob               name  \n",
      "0  1985-01-07     Lewis Hamilton  \n",
      "1  1977-05-10      Nick Heidfeld  \n",
      "2  1985-06-27       Nico Rosberg  \n",
      "3  1981-07-29    Fernando Alonso  \n",
      "4  1981-10-19  Heikki Kovalainen  \n"
     ]
    }
   ],
   "source": [
    "rs_dr = rs.merge(dr, how = \"left\", on = \"driverId\")\n",
    "print(rs_dr.head())"
   ]
  },
  {
   "cell_type": "code",
   "execution_count": 197,
   "id": "ba8b7873",
   "metadata": {},
   "outputs": [
    {
     "name": "stdout",
     "output_type": "stream",
     "text": [
      "<class 'pandas.core.frame.DataFrame'>\n",
      "Int64Index: 25840 entries, 0 to 25839\n",
      "Data columns (total 9 columns):\n",
      " #   Column        Non-Null Count  Dtype  \n",
      "---  ------        --------------  -----  \n",
      " 0   resultId      25840 non-null  int64  \n",
      " 1   raceId        25840 non-null  int64  \n",
      " 2   driverId      25840 non-null  int64  \n",
      " 3   positionText  25840 non-null  object \n",
      " 4   points        25840 non-null  float64\n",
      " 5   laps          25840 non-null  int64  \n",
      " 6   time          25840 non-null  object \n",
      " 7   dob           25840 non-null  object \n",
      " 8   name          25840 non-null  object \n",
      "dtypes: float64(1), int64(4), object(4)\n",
      "memory usage: 2.0+ MB\n"
     ]
    }
   ],
   "source": [
    "rs_dr.info()"
   ]
  },
  {
   "cell_type": "code",
   "execution_count": 198,
   "id": "a451c8f9",
   "metadata": {},
   "outputs": [],
   "source": [
    "rs_dr.columns = rs_dr.columns.str.title()"
   ]
  },
  {
   "cell_type": "code",
   "execution_count": 199,
   "id": "04d7aecb",
   "metadata": {},
   "outputs": [
    {
     "data": {
      "text/plain": [
       "Index(['Resultid', 'Raceid', 'Driverid', 'Positiontext', 'Points', 'Laps',\n",
       "       'Time', 'Dob', 'Name'],\n",
       "      dtype='object')"
      ]
     },
     "execution_count": 199,
     "metadata": {},
     "output_type": "execute_result"
    }
   ],
   "source": [
    "rs_dr.columns"
   ]
  },
  {
   "cell_type": "markdown",
   "id": "25d053a0",
   "metadata": {},
   "source": [
    "## Analysis of Data"
   ]
  },
  {
   "cell_type": "markdown",
   "id": "0eb9c34a",
   "metadata": {},
   "source": [
    "First we will look at the nationality of the drivers."
   ]
  },
  {
   "cell_type": "code",
   "execution_count": 200,
   "id": "eab6d1fe",
   "metadata": {},
   "outputs": [
    {
     "name": "stdout",
     "output_type": "stream",
     "text": [
      "United Kingdom                164\n",
      "United States                 160\n",
      "Italy                          99\n",
      "France                         72\n",
      "West Germany                   39\n",
      "Brazil                         32\n",
      "Argentina                      25\n",
      "Switzerland                    24\n",
      "Belgium                        23\n",
      "South Africa                   23\n",
      "Japan                          21\n",
      "Australia                      18\n",
      "Netherlands                    16\n",
      "Austria                        16\n",
      "Canada                         15\n",
      "Spain                          15\n",
      "Germany                        14\n",
      "Sweden                         11\n",
      "New Zealand                     9\n",
      "Finland                         9\n",
      "Mexico                          6\n",
      "Portugal                        5\n",
      "Ireland                         5\n",
      "Denmark                         5\n",
      "Uruguay                         4\n",
      "Rhodesia                        4\n",
      "Monaco                          4\n",
      "East Germany                    3\n",
      "Venezuela                       3\n",
      "Colombia                        3\n",
      "Russia                          3\n",
      "Thailand                        2\n",
      "India                           2\n",
      "Indonesia                       1\n",
      "Liechtenstein                   1\n",
      "East Germany, West Germany      1\n",
      "Monaco Netherlands              1\n",
      "Rhodesia and Nyasaland          1\n",
      "Malaysia                        1\n",
      "China                           1\n",
      "Belgium France                  1\n",
      "RAF                             1\n",
      "Morocco                         1\n",
      "Hungary                         1\n",
      "Chile                           1\n",
      "Czech Republic                  1\n",
      "Poland                          1\n",
      "Name: Nationality, dtype: int64\n"
     ]
    }
   ],
   "source": [
    "nation = df[\"Nationality\"].value_counts()\n",
    "print(nation)"
   ]
  },
  {
   "cell_type": "markdown",
   "id": "9f3f5a93",
   "metadata": {},
   "source": [
    "Bar chart of Nationalities with more than 5 drivers"
   ]
  },
  {
   "cell_type": "code",
   "execution_count": 201,
   "id": "ac1bd42d",
   "metadata": {
    "scrolled": false
   },
   "outputs": [
    {
     "data": {
      "text/plain": [
       "<AxesSubplot:title={'center':'Nationality of F1 Drivers'}, xlabel='Country', ylabel='Number of Drivers'>"
      ]
     },
     "execution_count": 201,
     "metadata": {},
     "output_type": "execute_result"
    },
    {
     "data": {
      "image/png": "[encoded data removed]",
      "text/plain": [
       "<Figure size 1152x504 with 1 Axes>"
      ]
     },
     "metadata": {
      "needs_background": "light"
     },
     "output_type": "display_data"
    }
   ],
   "source": [
    "nation = df[\"Nationality\"].value_counts()\n",
    "nation = nation.loc[nation >= 5]\n",
    "plt.figure(figsize=(16,7))\n",
    "font1={\"family\":\"serif\",\"color\":\"blue\",\"size\":25}\n",
    "font2={\"family\":\"serif\",\"color\":\"red\",\"size\":20}\n",
    "plt.xlabel(\"Country\",fontdict=font2)\n",
    "plt.ylabel(\"Number of Drivers\", fontdict=font2)\n",
    "plt.title(\"Nationality of F1 Drivers\", fontdict=font1)\n",
    "nation.plot.bar()"
   ]
  },
  {
   "cell_type": "markdown",
   "id": "d06d2f1f",
   "metadata": {},
   "source": [
    "This shows that the United States had the second highest figure which to me was unexpected as F1 is not so popular in the United States. This required a little more investigation."
   ]
  },
  {
   "cell_type": "code",
   "execution_count": 202,
   "id": "1203110b",
   "metadata": {},
   "outputs": [
    {
     "name": "stdout",
     "output_type": "stream",
     "text": [
      "             Driver  Race_Entries  Race_Starts\n",
      "5         Walt Ader           1.0          1.0\n",
      "7   Fred Agabashian           9.0          8.0\n",
      "19     George Amick           2.0          1.0\n",
      "20        Red Amick           2.0          2.0\n",
      "24      Emil Andres           1.0          0.0\n"
     ]
    }
   ],
   "source": [
    "new_us = df.query(\"Nationality == 'United States'\")[[\"Driver\",\"Race_Entries\",\"Race_Starts\"]]\n",
    "print(new_us.head())"
   ]
  },
  {
   "cell_type": "code",
   "execution_count": 203,
   "id": "1a4ef1c9",
   "metadata": {
    "scrolled": true
   },
   "outputs": [
    {
     "data": {
      "text/html": [
       "<div>\n",
       "<style scoped>\n",
       "    .dataframe tbody tr th:only-of-type {\n",
       "        vertical-align: middle;\n",
       "    }\n",
       "\n",
       "    .dataframe tbody tr th {\n",
       "        vertical-align: top;\n",
       "    }\n",
       "\n",
       "    .dataframe thead th {\n",
       "        text-align: right;\n",
       "    }\n",
       "</style>\n",
       "<table border=\"1\" class=\"dataframe\">\n",
       "  <thead>\n",
       "    <tr style=\"text-align: right;\">\n",
       "      <th></th>\n",
       "      <th>Driver</th>\n",
       "      <th>Race_Entries</th>\n",
       "      <th>Race_Starts</th>\n",
       "    </tr>\n",
       "  </thead>\n",
       "  <tbody>\n",
       "    <tr>\n",
       "      <th>24</th>\n",
       "      <td>Emil Andres</td>\n",
       "      <td>1.0</td>\n",
       "      <td>0.0</td>\n",
       "    </tr>\n",
       "    <tr>\n",
       "      <th>138</th>\n",
       "      <td>Phil Cade</td>\n",
       "      <td>1.0</td>\n",
       "      <td>0.0</td>\n",
       "    </tr>\n",
       "    <tr>\n",
       "      <th>204</th>\n",
       "      <td>Frank Dochnal</td>\n",
       "      <td>1.0</td>\n",
       "      <td>0.0</td>\n",
       "    </tr>\n",
       "    <tr>\n",
       "      <th>398</th>\n",
       "      <td>Tom Jones</td>\n",
       "      <td>1.0</td>\n",
       "      <td>0.0</td>\n",
       "    </tr>\n",
       "    <tr>\n",
       "      <th>410</th>\n",
       "      <td>Bruce Kessler</td>\n",
       "      <td>1.0</td>\n",
       "      <td>0.0</td>\n",
       "    </tr>\n",
       "    <tr>\n",
       "      <th>...</th>\n",
       "      <td>...</td>\n",
       "      <td>...</td>\n",
       "      <td>...</td>\n",
       "    </tr>\n",
       "    <tr>\n",
       "      <th>674</th>\n",
       "      <td>Alexander Rossi</td>\n",
       "      <td>7.0</td>\n",
       "      <td>5.0</td>\n",
       "    </tr>\n",
       "    <tr>\n",
       "      <th>766</th>\n",
       "      <td>Bob Sweikert</td>\n",
       "      <td>7.0</td>\n",
       "      <td>5.0</td>\n",
       "    </tr>\n",
       "    <tr>\n",
       "      <th>197</th>\n",
       "      <td>Jimmy Davies</td>\n",
       "      <td>8.0</td>\n",
       "      <td>5.0</td>\n",
       "    </tr>\n",
       "    <tr>\n",
       "      <th>359</th>\n",
       "      <td>Al Herman</td>\n",
       "      <td>8.0</td>\n",
       "      <td>5.0</td>\n",
       "    </tr>\n",
       "    <tr>\n",
       "      <th>104</th>\n",
       "      <td>Johnny Boyd</td>\n",
       "      <td>6.0</td>\n",
       "      <td>6.0</td>\n",
       "    </tr>\n",
       "  </tbody>\n",
       "</table>\n",
       "<p>120 rows × 3 columns</p>\n",
       "</div>"
      ],
      "text/plain": [
       "              Driver  Race_Entries  Race_Starts\n",
       "24       Emil Andres           1.0          0.0\n",
       "138        Phil Cade           1.0          0.0\n",
       "204    Frank Dochnal           1.0          0.0\n",
       "398        Tom Jones           1.0          0.0\n",
       "410    Bruce Kessler           1.0          0.0\n",
       "..               ...           ...          ...\n",
       "674  Alexander Rossi           7.0          5.0\n",
       "766     Bob Sweikert           7.0          5.0\n",
       "197     Jimmy Davies           8.0          5.0\n",
       "359        Al Herman           8.0          5.0\n",
       "104      Johnny Boyd           6.0          6.0\n",
       "\n",
       "[120 rows x 3 columns]"
      ]
     },
     "execution_count": 203,
     "metadata": {},
     "output_type": "execute_result"
    }
   ],
   "source": [
    "usdr=new_us.sort_values(by=[\"Race_Starts\",\"Race_Entries\"],ascending=True)\n",
    "usdr.head(120)"
   ]
  },
  {
   "cell_type": "code",
   "execution_count": 226,
   "id": "2e701555",
   "metadata": {},
   "outputs": [
    {
     "data": {
      "text/html": [
       "<div>\n",
       "<style scoped>\n",
       "    .dataframe tbody tr th:only-of-type {\n",
       "        vertical-align: middle;\n",
       "    }\n",
       "\n",
       "    .dataframe tbody tr th {\n",
       "        vertical-align: top;\n",
       "    }\n",
       "\n",
       "    .dataframe thead th {\n",
       "        text-align: right;\n",
       "    }\n",
       "</style>\n",
       "<table border=\"1\" class=\"dataframe\">\n",
       "  <thead>\n",
       "    <tr style=\"text-align: right;\">\n",
       "      <th></th>\n",
       "      <th>Driver</th>\n",
       "      <th>Race_Entries</th>\n",
       "      <th>Race_Starts</th>\n",
       "    </tr>\n",
       "  </thead>\n",
       "  <tbody>\n",
       "    <tr>\n",
       "      <th>126</th>\n",
       "      <td>Jimmy Bryan</td>\n",
       "      <td>10.0</td>\n",
       "      <td>9.0</td>\n",
       "    </tr>\n",
       "    <tr>\n",
       "      <th>639</th>\n",
       "      <td>Jim Rathmann</td>\n",
       "      <td>10.0</td>\n",
       "      <td>10.0</td>\n",
       "    </tr>\n",
       "    <tr>\n",
       "      <th>76</th>\n",
       "      <td>Tony Bettenhausen</td>\n",
       "      <td>11.0</td>\n",
       "      <td>11.0</td>\n",
       "    </tr>\n",
       "    <tr>\n",
       "      <th>128</th>\n",
       "      <td>Ronnie Bucknum</td>\n",
       "      <td>11.0</td>\n",
       "      <td>11.0</td>\n",
       "    </tr>\n",
       "    <tr>\n",
       "      <th>336</th>\n",
       "      <td>Jim Hall</td>\n",
       "      <td>12.0</td>\n",
       "      <td>11.0</td>\n",
       "    </tr>\n",
       "    <tr>\n",
       "      <th>829</th>\n",
       "      <td>Rodger Ward</td>\n",
       "      <td>12.0</td>\n",
       "      <td>12.0</td>\n",
       "    </tr>\n",
       "    <tr>\n",
       "      <th>259</th>\n",
       "      <td>George Follmer</td>\n",
       "      <td>13.0</td>\n",
       "      <td>12.0</td>\n",
       "    </tr>\n",
       "    <tr>\n",
       "      <th>26</th>\n",
       "      <td>Michael Andretti</td>\n",
       "      <td>13.0</td>\n",
       "      <td>13.0</td>\n",
       "    </tr>\n",
       "    <tr>\n",
       "      <th>207</th>\n",
       "      <td>Mark Donohue</td>\n",
       "      <td>16.0</td>\n",
       "      <td>14.0</td>\n",
       "    </tr>\n",
       "    <tr>\n",
       "      <th>757</th>\n",
       "      <td>Danny Sullivan</td>\n",
       "      <td>15.0</td>\n",
       "      <td>15.0</td>\n",
       "    </tr>\n",
       "    <tr>\n",
       "      <th>741</th>\n",
       "      <td>Scott Speed</td>\n",
       "      <td>28.0</td>\n",
       "      <td>28.0</td>\n",
       "    </tr>\n",
       "    <tr>\n",
       "      <th>650</th>\n",
       "      <td>Peter Revson</td>\n",
       "      <td>32.0</td>\n",
       "      <td>30.0</td>\n",
       "    </tr>\n",
       "    <tr>\n",
       "      <th>475</th>\n",
       "      <td>Brett Lunger</td>\n",
       "      <td>43.0</td>\n",
       "      <td>34.0</td>\n",
       "    </tr>\n",
       "    <tr>\n",
       "      <th>319</th>\n",
       "      <td>Masten Gregory</td>\n",
       "      <td>43.0</td>\n",
       "      <td>38.0</td>\n",
       "    </tr>\n",
       "    <tr>\n",
       "      <th>365</th>\n",
       "      <td>Phil Hill</td>\n",
       "      <td>52.0</td>\n",
       "      <td>49.0</td>\n",
       "    </tr>\n",
       "    <tr>\n",
       "      <th>300</th>\n",
       "      <td>Richie Ginther</td>\n",
       "      <td>54.0</td>\n",
       "      <td>52.0</td>\n",
       "    </tr>\n",
       "    <tr>\n",
       "      <th>699</th>\n",
       "      <td>Harry Schell</td>\n",
       "      <td>57.0</td>\n",
       "      <td>56.0</td>\n",
       "    </tr>\n",
       "    <tr>\n",
       "      <th>330</th>\n",
       "      <td>Dan Gurney</td>\n",
       "      <td>87.0</td>\n",
       "      <td>86.0</td>\n",
       "    </tr>\n",
       "    <tr>\n",
       "      <th>25</th>\n",
       "      <td>Mario Andretti</td>\n",
       "      <td>131.0</td>\n",
       "      <td>128.0</td>\n",
       "    </tr>\n",
       "    <tr>\n",
       "      <th>160</th>\n",
       "      <td>Eddie Cheever</td>\n",
       "      <td>143.0</td>\n",
       "      <td>132.0</td>\n",
       "    </tr>\n",
       "  </tbody>\n",
       "</table>\n",
       "</div>"
      ],
      "text/plain": [
       "                Driver  Race_Entries  Race_Starts\n",
       "126        Jimmy Bryan          10.0          9.0\n",
       "639       Jim Rathmann          10.0         10.0\n",
       "76   Tony Bettenhausen          11.0         11.0\n",
       "128     Ronnie Bucknum          11.0         11.0\n",
       "336           Jim Hall          12.0         11.0\n",
       "829        Rodger Ward          12.0         12.0\n",
       "259     George Follmer          13.0         12.0\n",
       "26    Michael Andretti          13.0         13.0\n",
       "207       Mark Donohue          16.0         14.0\n",
       "757     Danny Sullivan          15.0         15.0\n",
       "741        Scott Speed          28.0         28.0\n",
       "650       Peter Revson          32.0         30.0\n",
       "475       Brett Lunger          43.0         34.0\n",
       "319     Masten Gregory          43.0         38.0\n",
       "365          Phil Hill          52.0         49.0\n",
       "300     Richie Ginther          54.0         52.0\n",
       "699       Harry Schell          57.0         56.0\n",
       "330         Dan Gurney          87.0         86.0\n",
       "25      Mario Andretti         131.0        128.0\n",
       "160      Eddie Cheever         143.0        132.0"
      ]
     },
     "execution_count": 226,
     "metadata": {},
     "output_type": "execute_result"
    }
   ],
   "source": [
    "usdr.tail(20)"
   ]
  },
  {
   "cell_type": "code",
   "execution_count": 225,
   "id": "fab8d88e",
   "metadata": {},
   "outputs": [
    {
     "name": "stdout",
     "output_type": "stream",
     "text": [
      "<class 'str'>\n"
     ]
    }
   ],
   "source": [
    "print(type(\"Race_Starts\"))"
   ]
  },
  {
   "cell_type": "markdown",
   "id": "7a6fda9e",
   "metadata": {},
   "source": [
    "As seen from using head(120) there is 119 drivers, out of the 160 with 5 race starts or less and a quick google search revealed that from 1950 to 1960 inclusive that the famous US race the Indy 500 was part of the F1 points championship so many US drivers took part in it but did not race in any of the other F1 races. According to Wikipedia 58 F1 US drivers is the accepted amount."
   ]
  },
  {
   "cell_type": "code",
   "execution_count": null,
   "id": "7076bc35",
   "metadata": {},
   "outputs": [],
   "source": []
  },
  {
   "cell_type": "code",
   "execution_count": null,
   "id": "7257911b",
   "metadata": {},
   "outputs": [],
   "source": []
  },
  {
   "cell_type": "code",
   "execution_count": null,
   "id": "aa8f251f",
   "metadata": {},
   "outputs": [],
   "source": []
  }
 ],
 "metadata": {
  "kernelspec": {
   "display_name": "Python 3",
   "language": "python",
   "name": "python3"
  },
  "language_info": {
   "codemirror_mode": {
    "name": "ipython",
    "version": 3
   },
   "file_extension": ".py",
   "mimetype": "text/x-python",
   "name": "python",
   "nbconvert_exporter": "python",
   "pygments_lexer": "ipython3",
   "version": "3.8.8"
  }
 },
 "nbformat": 4,
 "nbformat_minor": 5
}
